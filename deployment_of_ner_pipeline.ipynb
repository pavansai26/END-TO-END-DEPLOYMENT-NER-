{
  "nbformat": 4,
  "nbformat_minor": 0,
  "metadata": {
    "colab": {
      "provenance": [],
      "authorship_tag": "ABX9TyMOxLVvI43fOy1MvcG32Rpb",
      "include_colab_link": true
    },
    "kernelspec": {
      "name": "python3",
      "display_name": "Python 3"
    },
    "language_info": {
      "name": "python"
    },
    "widgets": {
      "application/vnd.jupyter.widget-state+json": {
        "5ea938a4bc304346be361c49c95dfda4": {
          "model_module": "@jupyter-widgets/controls",
          "model_name": "HBoxModel",
          "model_module_version": "1.5.0",
          "state": {
            "_dom_classes": [],
            "_model_module": "@jupyter-widgets/controls",
            "_model_module_version": "1.5.0",
            "_model_name": "HBoxModel",
            "_view_count": null,
            "_view_module": "@jupyter-widgets/controls",
            "_view_module_version": "1.5.0",
            "_view_name": "HBoxView",
            "box_style": "",
            "children": [
              "IPY_MODEL_9d6a7980c28a49208f05b92c5c627130",
              "IPY_MODEL_551f85ebd9fc47bb8e54df39a6477e4e",
              "IPY_MODEL_a1852e826a00443385ecd289edce98c6"
            ],
            "layout": "IPY_MODEL_0fc788160d5349dd9b61ae06ae7196ef"
          }
        },
        "9d6a7980c28a49208f05b92c5c627130": {
          "model_module": "@jupyter-widgets/controls",
          "model_name": "HTMLModel",
          "model_module_version": "1.5.0",
          "state": {
            "_dom_classes": [],
            "_model_module": "@jupyter-widgets/controls",
            "_model_module_version": "1.5.0",
            "_model_name": "HTMLModel",
            "_view_count": null,
            "_view_module": "@jupyter-widgets/controls",
            "_view_module_version": "1.5.0",
            "_view_name": "HTMLView",
            "description": "",
            "description_tooltip": null,
            "layout": "IPY_MODEL_05c75a1004454f8f9935ed7a0dd51331",
            "placeholder": "​",
            "style": "IPY_MODEL_5482ee1eb3d54549a1815589ba80f00c",
            "value": "Downloading (…)lve/main/config.json: 100%"
          }
        },
        "551f85ebd9fc47bb8e54df39a6477e4e": {
          "model_module": "@jupyter-widgets/controls",
          "model_name": "FloatProgressModel",
          "model_module_version": "1.5.0",
          "state": {
            "_dom_classes": [],
            "_model_module": "@jupyter-widgets/controls",
            "_model_module_version": "1.5.0",
            "_model_name": "FloatProgressModel",
            "_view_count": null,
            "_view_module": "@jupyter-widgets/controls",
            "_view_module_version": "1.5.0",
            "_view_name": "ProgressView",
            "bar_style": "success",
            "description": "",
            "description_tooltip": null,
            "layout": "IPY_MODEL_cd1e04c0ce7c46fa87c6a0c6cc351883",
            "max": 512,
            "min": 0,
            "orientation": "horizontal",
            "style": "IPY_MODEL_04880e5672a048b18b6986ee4c08f3d9",
            "value": 512
          }
        },
        "a1852e826a00443385ecd289edce98c6": {
          "model_module": "@jupyter-widgets/controls",
          "model_name": "HTMLModel",
          "model_module_version": "1.5.0",
          "state": {
            "_dom_classes": [],
            "_model_module": "@jupyter-widgets/controls",
            "_model_module_version": "1.5.0",
            "_model_name": "HTMLModel",
            "_view_count": null,
            "_view_module": "@jupyter-widgets/controls",
            "_view_module_version": "1.5.0",
            "_view_name": "HTMLView",
            "description": "",
            "description_tooltip": null,
            "layout": "IPY_MODEL_8b66ca3c0ee14986b606de2be6f509e2",
            "placeholder": "​",
            "style": "IPY_MODEL_f2595c4c1355428e9115782418f24a5b",
            "value": " 512/512 [00:00&lt;00:00, 12.1kB/s]"
          }
        },
        "0fc788160d5349dd9b61ae06ae7196ef": {
          "model_module": "@jupyter-widgets/base",
          "model_name": "LayoutModel",
          "model_module_version": "1.2.0",
          "state": {
            "_model_module": "@jupyter-widgets/base",
            "_model_module_version": "1.2.0",
            "_model_name": "LayoutModel",
            "_view_count": null,
            "_view_module": "@jupyter-widgets/base",
            "_view_module_version": "1.2.0",
            "_view_name": "LayoutView",
            "align_content": null,
            "align_items": null,
            "align_self": null,
            "border": null,
            "bottom": null,
            "display": null,
            "flex": null,
            "flex_flow": null,
            "grid_area": null,
            "grid_auto_columns": null,
            "grid_auto_flow": null,
            "grid_auto_rows": null,
            "grid_column": null,
            "grid_gap": null,
            "grid_row": null,
            "grid_template_areas": null,
            "grid_template_columns": null,
            "grid_template_rows": null,
            "height": null,
            "justify_content": null,
            "justify_items": null,
            "left": null,
            "margin": null,
            "max_height": null,
            "max_width": null,
            "min_height": null,
            "min_width": null,
            "object_fit": null,
            "object_position": null,
            "order": null,
            "overflow": null,
            "overflow_x": null,
            "overflow_y": null,
            "padding": null,
            "right": null,
            "top": null,
            "visibility": null,
            "width": null
          }
        },
        "05c75a1004454f8f9935ed7a0dd51331": {
          "model_module": "@jupyter-widgets/base",
          "model_name": "LayoutModel",
          "model_module_version": "1.2.0",
          "state": {
            "_model_module": "@jupyter-widgets/base",
            "_model_module_version": "1.2.0",
            "_model_name": "LayoutModel",
            "_view_count": null,
            "_view_module": "@jupyter-widgets/base",
            "_view_module_version": "1.2.0",
            "_view_name": "LayoutView",
            "align_content": null,
            "align_items": null,
            "align_self": null,
            "border": null,
            "bottom": null,
            "display": null,
            "flex": null,
            "flex_flow": null,
            "grid_area": null,
            "grid_auto_columns": null,
            "grid_auto_flow": null,
            "grid_auto_rows": null,
            "grid_column": null,
            "grid_gap": null,
            "grid_row": null,
            "grid_template_areas": null,
            "grid_template_columns": null,
            "grid_template_rows": null,
            "height": null,
            "justify_content": null,
            "justify_items": null,
            "left": null,
            "margin": null,
            "max_height": null,
            "max_width": null,
            "min_height": null,
            "min_width": null,
            "object_fit": null,
            "object_position": null,
            "order": null,
            "overflow": null,
            "overflow_x": null,
            "overflow_y": null,
            "padding": null,
            "right": null,
            "top": null,
            "visibility": null,
            "width": null
          }
        },
        "5482ee1eb3d54549a1815589ba80f00c": {
          "model_module": "@jupyter-widgets/controls",
          "model_name": "DescriptionStyleModel",
          "model_module_version": "1.5.0",
          "state": {
            "_model_module": "@jupyter-widgets/controls",
            "_model_module_version": "1.5.0",
            "_model_name": "DescriptionStyleModel",
            "_view_count": null,
            "_view_module": "@jupyter-widgets/base",
            "_view_module_version": "1.2.0",
            "_view_name": "StyleView",
            "description_width": ""
          }
        },
        "cd1e04c0ce7c46fa87c6a0c6cc351883": {
          "model_module": "@jupyter-widgets/base",
          "model_name": "LayoutModel",
          "model_module_version": "1.2.0",
          "state": {
            "_model_module": "@jupyter-widgets/base",
            "_model_module_version": "1.2.0",
            "_model_name": "LayoutModel",
            "_view_count": null,
            "_view_module": "@jupyter-widgets/base",
            "_view_module_version": "1.2.0",
            "_view_name": "LayoutView",
            "align_content": null,
            "align_items": null,
            "align_self": null,
            "border": null,
            "bottom": null,
            "display": null,
            "flex": null,
            "flex_flow": null,
            "grid_area": null,
            "grid_auto_columns": null,
            "grid_auto_flow": null,
            "grid_auto_rows": null,
            "grid_column": null,
            "grid_gap": null,
            "grid_row": null,
            "grid_template_areas": null,
            "grid_template_columns": null,
            "grid_template_rows": null,
            "height": null,
            "justify_content": null,
            "justify_items": null,
            "left": null,
            "margin": null,
            "max_height": null,
            "max_width": null,
            "min_height": null,
            "min_width": null,
            "object_fit": null,
            "object_position": null,
            "order": null,
            "overflow": null,
            "overflow_x": null,
            "overflow_y": null,
            "padding": null,
            "right": null,
            "top": null,
            "visibility": null,
            "width": null
          }
        },
        "04880e5672a048b18b6986ee4c08f3d9": {
          "model_module": "@jupyter-widgets/controls",
          "model_name": "ProgressStyleModel",
          "model_module_version": "1.5.0",
          "state": {
            "_model_module": "@jupyter-widgets/controls",
            "_model_module_version": "1.5.0",
            "_model_name": "ProgressStyleModel",
            "_view_count": null,
            "_view_module": "@jupyter-widgets/base",
            "_view_module_version": "1.2.0",
            "_view_name": "StyleView",
            "bar_color": null,
            "description_width": ""
          }
        },
        "8b66ca3c0ee14986b606de2be6f509e2": {
          "model_module": "@jupyter-widgets/base",
          "model_name": "LayoutModel",
          "model_module_version": "1.2.0",
          "state": {
            "_model_module": "@jupyter-widgets/base",
            "_model_module_version": "1.2.0",
            "_model_name": "LayoutModel",
            "_view_count": null,
            "_view_module": "@jupyter-widgets/base",
            "_view_module_version": "1.2.0",
            "_view_name": "LayoutView",
            "align_content": null,
            "align_items": null,
            "align_self": null,
            "border": null,
            "bottom": null,
            "display": null,
            "flex": null,
            "flex_flow": null,
            "grid_area": null,
            "grid_auto_columns": null,
            "grid_auto_flow": null,
            "grid_auto_rows": null,
            "grid_column": null,
            "grid_gap": null,
            "grid_row": null,
            "grid_template_areas": null,
            "grid_template_columns": null,
            "grid_template_rows": null,
            "height": null,
            "justify_content": null,
            "justify_items": null,
            "left": null,
            "margin": null,
            "max_height": null,
            "max_width": null,
            "min_height": null,
            "min_width": null,
            "object_fit": null,
            "object_position": null,
            "order": null,
            "overflow": null,
            "overflow_x": null,
            "overflow_y": null,
            "padding": null,
            "right": null,
            "top": null,
            "visibility": null,
            "width": null
          }
        },
        "f2595c4c1355428e9115782418f24a5b": {
          "model_module": "@jupyter-widgets/controls",
          "model_name": "DescriptionStyleModel",
          "model_module_version": "1.5.0",
          "state": {
            "_model_module": "@jupyter-widgets/controls",
            "_model_module_version": "1.5.0",
            "_model_name": "DescriptionStyleModel",
            "_view_count": null,
            "_view_module": "@jupyter-widgets/base",
            "_view_module_version": "1.2.0",
            "_view_name": "StyleView",
            "description_width": ""
          }
        },
        "f41a0f762ef0444cb15f35258120bf31": {
          "model_module": "@jupyter-widgets/controls",
          "model_name": "HBoxModel",
          "model_module_version": "1.5.0",
          "state": {
            "_dom_classes": [],
            "_model_module": "@jupyter-widgets/controls",
            "_model_module_version": "1.5.0",
            "_model_name": "HBoxModel",
            "_view_count": null,
            "_view_module": "@jupyter-widgets/controls",
            "_view_module_version": "1.5.0",
            "_view_name": "HBoxView",
            "box_style": "",
            "children": [
              "IPY_MODEL_8589b31dcd89423bbe784df9d78ecf94",
              "IPY_MODEL_ba21a8cba21845a881fcc6c510450201",
              "IPY_MODEL_4449402905454efb89c30aae965980f8"
            ],
            "layout": "IPY_MODEL_2a7dcfb77e584d1bb524c88ceec9dfa4"
          }
        },
        "8589b31dcd89423bbe784df9d78ecf94": {
          "model_module": "@jupyter-widgets/controls",
          "model_name": "HTMLModel",
          "model_module_version": "1.5.0",
          "state": {
            "_dom_classes": [],
            "_model_module": "@jupyter-widgets/controls",
            "_model_module_version": "1.5.0",
            "_model_name": "HTMLModel",
            "_view_count": null,
            "_view_module": "@jupyter-widgets/controls",
            "_view_module_version": "1.5.0",
            "_view_name": "HTMLView",
            "description": "",
            "description_tooltip": null,
            "layout": "IPY_MODEL_322efa2aa6f64161aa45cb24bd3f5714",
            "placeholder": "​",
            "style": "IPY_MODEL_8732d9e4c7834da7973a103ab875540c",
            "value": "Downloading (…)tencepiece.bpe.model: 100%"
          }
        },
        "ba21a8cba21845a881fcc6c510450201": {
          "model_module": "@jupyter-widgets/controls",
          "model_name": "FloatProgressModel",
          "model_module_version": "1.5.0",
          "state": {
            "_dom_classes": [],
            "_model_module": "@jupyter-widgets/controls",
            "_model_module_version": "1.5.0",
            "_model_name": "FloatProgressModel",
            "_view_count": null,
            "_view_module": "@jupyter-widgets/controls",
            "_view_module_version": "1.5.0",
            "_view_name": "ProgressView",
            "bar_style": "success",
            "description": "",
            "description_tooltip": null,
            "layout": "IPY_MODEL_5b4708c6af354eb99570b1457e12a080",
            "max": 5069051,
            "min": 0,
            "orientation": "horizontal",
            "style": "IPY_MODEL_6856cca498fc40b29734e15343e50e64",
            "value": 5069051
          }
        },
        "4449402905454efb89c30aae965980f8": {
          "model_module": "@jupyter-widgets/controls",
          "model_name": "HTMLModel",
          "model_module_version": "1.5.0",
          "state": {
            "_dom_classes": [],
            "_model_module": "@jupyter-widgets/controls",
            "_model_module_version": "1.5.0",
            "_model_name": "HTMLModel",
            "_view_count": null,
            "_view_module": "@jupyter-widgets/controls",
            "_view_module_version": "1.5.0",
            "_view_name": "HTMLView",
            "description": "",
            "description_tooltip": null,
            "layout": "IPY_MODEL_3b400eef92e743888b98a5602d07542b",
            "placeholder": "​",
            "style": "IPY_MODEL_2b21e9f9253e405e927c829e13b9a6f4",
            "value": " 5.07M/5.07M [00:00&lt;00:00, 25.4MB/s]"
          }
        },
        "2a7dcfb77e584d1bb524c88ceec9dfa4": {
          "model_module": "@jupyter-widgets/base",
          "model_name": "LayoutModel",
          "model_module_version": "1.2.0",
          "state": {
            "_model_module": "@jupyter-widgets/base",
            "_model_module_version": "1.2.0",
            "_model_name": "LayoutModel",
            "_view_count": null,
            "_view_module": "@jupyter-widgets/base",
            "_view_module_version": "1.2.0",
            "_view_name": "LayoutView",
            "align_content": null,
            "align_items": null,
            "align_self": null,
            "border": null,
            "bottom": null,
            "display": null,
            "flex": null,
            "flex_flow": null,
            "grid_area": null,
            "grid_auto_columns": null,
            "grid_auto_flow": null,
            "grid_auto_rows": null,
            "grid_column": null,
            "grid_gap": null,
            "grid_row": null,
            "grid_template_areas": null,
            "grid_template_columns": null,
            "grid_template_rows": null,
            "height": null,
            "justify_content": null,
            "justify_items": null,
            "left": null,
            "margin": null,
            "max_height": null,
            "max_width": null,
            "min_height": null,
            "min_width": null,
            "object_fit": null,
            "object_position": null,
            "order": null,
            "overflow": null,
            "overflow_x": null,
            "overflow_y": null,
            "padding": null,
            "right": null,
            "top": null,
            "visibility": null,
            "width": null
          }
        },
        "322efa2aa6f64161aa45cb24bd3f5714": {
          "model_module": "@jupyter-widgets/base",
          "model_name": "LayoutModel",
          "model_module_version": "1.2.0",
          "state": {
            "_model_module": "@jupyter-widgets/base",
            "_model_module_version": "1.2.0",
            "_model_name": "LayoutModel",
            "_view_count": null,
            "_view_module": "@jupyter-widgets/base",
            "_view_module_version": "1.2.0",
            "_view_name": "LayoutView",
            "align_content": null,
            "align_items": null,
            "align_self": null,
            "border": null,
            "bottom": null,
            "display": null,
            "flex": null,
            "flex_flow": null,
            "grid_area": null,
            "grid_auto_columns": null,
            "grid_auto_flow": null,
            "grid_auto_rows": null,
            "grid_column": null,
            "grid_gap": null,
            "grid_row": null,
            "grid_template_areas": null,
            "grid_template_columns": null,
            "grid_template_rows": null,
            "height": null,
            "justify_content": null,
            "justify_items": null,
            "left": null,
            "margin": null,
            "max_height": null,
            "max_width": null,
            "min_height": null,
            "min_width": null,
            "object_fit": null,
            "object_position": null,
            "order": null,
            "overflow": null,
            "overflow_x": null,
            "overflow_y": null,
            "padding": null,
            "right": null,
            "top": null,
            "visibility": null,
            "width": null
          }
        },
        "8732d9e4c7834da7973a103ab875540c": {
          "model_module": "@jupyter-widgets/controls",
          "model_name": "DescriptionStyleModel",
          "model_module_version": "1.5.0",
          "state": {
            "_model_module": "@jupyter-widgets/controls",
            "_model_module_version": "1.5.0",
            "_model_name": "DescriptionStyleModel",
            "_view_count": null,
            "_view_module": "@jupyter-widgets/base",
            "_view_module_version": "1.2.0",
            "_view_name": "StyleView",
            "description_width": ""
          }
        },
        "5b4708c6af354eb99570b1457e12a080": {
          "model_module": "@jupyter-widgets/base",
          "model_name": "LayoutModel",
          "model_module_version": "1.2.0",
          "state": {
            "_model_module": "@jupyter-widgets/base",
            "_model_module_version": "1.2.0",
            "_model_name": "LayoutModel",
            "_view_count": null,
            "_view_module": "@jupyter-widgets/base",
            "_view_module_version": "1.2.0",
            "_view_name": "LayoutView",
            "align_content": null,
            "align_items": null,
            "align_self": null,
            "border": null,
            "bottom": null,
            "display": null,
            "flex": null,
            "flex_flow": null,
            "grid_area": null,
            "grid_auto_columns": null,
            "grid_auto_flow": null,
            "grid_auto_rows": null,
            "grid_column": null,
            "grid_gap": null,
            "grid_row": null,
            "grid_template_areas": null,
            "grid_template_columns": null,
            "grid_template_rows": null,
            "height": null,
            "justify_content": null,
            "justify_items": null,
            "left": null,
            "margin": null,
            "max_height": null,
            "max_width": null,
            "min_height": null,
            "min_width": null,
            "object_fit": null,
            "object_position": null,
            "order": null,
            "overflow": null,
            "overflow_x": null,
            "overflow_y": null,
            "padding": null,
            "right": null,
            "top": null,
            "visibility": null,
            "width": null
          }
        },
        "6856cca498fc40b29734e15343e50e64": {
          "model_module": "@jupyter-widgets/controls",
          "model_name": "ProgressStyleModel",
          "model_module_version": "1.5.0",
          "state": {
            "_model_module": "@jupyter-widgets/controls",
            "_model_module_version": "1.5.0",
            "_model_name": "ProgressStyleModel",
            "_view_count": null,
            "_view_module": "@jupyter-widgets/base",
            "_view_module_version": "1.2.0",
            "_view_name": "StyleView",
            "bar_color": null,
            "description_width": ""
          }
        },
        "3b400eef92e743888b98a5602d07542b": {
          "model_module": "@jupyter-widgets/base",
          "model_name": "LayoutModel",
          "model_module_version": "1.2.0",
          "state": {
            "_model_module": "@jupyter-widgets/base",
            "_model_module_version": "1.2.0",
            "_model_name": "LayoutModel",
            "_view_count": null,
            "_view_module": "@jupyter-widgets/base",
            "_view_module_version": "1.2.0",
            "_view_name": "LayoutView",
            "align_content": null,
            "align_items": null,
            "align_self": null,
            "border": null,
            "bottom": null,
            "display": null,
            "flex": null,
            "flex_flow": null,
            "grid_area": null,
            "grid_auto_columns": null,
            "grid_auto_flow": null,
            "grid_auto_rows": null,
            "grid_column": null,
            "grid_gap": null,
            "grid_row": null,
            "grid_template_areas": null,
            "grid_template_columns": null,
            "grid_template_rows": null,
            "height": null,
            "justify_content": null,
            "justify_items": null,
            "left": null,
            "margin": null,
            "max_height": null,
            "max_width": null,
            "min_height": null,
            "min_width": null,
            "object_fit": null,
            "object_position": null,
            "order": null,
            "overflow": null,
            "overflow_x": null,
            "overflow_y": null,
            "padding": null,
            "right": null,
            "top": null,
            "visibility": null,
            "width": null
          }
        },
        "2b21e9f9253e405e927c829e13b9a6f4": {
          "model_module": "@jupyter-widgets/controls",
          "model_name": "DescriptionStyleModel",
          "model_module_version": "1.5.0",
          "state": {
            "_model_module": "@jupyter-widgets/controls",
            "_model_module_version": "1.5.0",
            "_model_name": "DescriptionStyleModel",
            "_view_count": null,
            "_view_module": "@jupyter-widgets/base",
            "_view_module_version": "1.2.0",
            "_view_name": "StyleView",
            "description_width": ""
          }
        },
        "f1d1d32fae964113b0794e171c28a5ab": {
          "model_module": "@jupyter-widgets/controls",
          "model_name": "HBoxModel",
          "model_module_version": "1.5.0",
          "state": {
            "_dom_classes": [],
            "_model_module": "@jupyter-widgets/controls",
            "_model_module_version": "1.5.0",
            "_model_name": "HBoxModel",
            "_view_count": null,
            "_view_module": "@jupyter-widgets/controls",
            "_view_module_version": "1.5.0",
            "_view_name": "HBoxView",
            "box_style": "",
            "children": [
              "IPY_MODEL_33ec44be662e4cd191a37fcf26c6b6fd",
              "IPY_MODEL_94414732599c45849324259b5509e3d9",
              "IPY_MODEL_d1ecea3b989f40609015ff1a688b5a55"
            ],
            "layout": "IPY_MODEL_a164044aadc0448c8695fdf834364c0e"
          }
        },
        "33ec44be662e4cd191a37fcf26c6b6fd": {
          "model_module": "@jupyter-widgets/controls",
          "model_name": "HTMLModel",
          "model_module_version": "1.5.0",
          "state": {
            "_dom_classes": [],
            "_model_module": "@jupyter-widgets/controls",
            "_model_module_version": "1.5.0",
            "_model_name": "HTMLModel",
            "_view_count": null,
            "_view_module": "@jupyter-widgets/controls",
            "_view_module_version": "1.5.0",
            "_view_name": "HTMLView",
            "description": "",
            "description_tooltip": null,
            "layout": "IPY_MODEL_cd9a662dda314beeabe5b8a2bca7f2b5",
            "placeholder": "​",
            "style": "IPY_MODEL_520308264e3a45e2b9c75f63b519d0d5",
            "value": "Downloading tf_model.h5: 100%"
          }
        },
        "94414732599c45849324259b5509e3d9": {
          "model_module": "@jupyter-widgets/controls",
          "model_name": "FloatProgressModel",
          "model_module_version": "1.5.0",
          "state": {
            "_dom_classes": [],
            "_model_module": "@jupyter-widgets/controls",
            "_model_module_version": "1.5.0",
            "_model_name": "FloatProgressModel",
            "_view_count": null,
            "_view_module": "@jupyter-widgets/controls",
            "_view_module_version": "1.5.0",
            "_view_name": "ProgressView",
            "bar_style": "success",
            "description": "",
            "description_tooltip": null,
            "layout": "IPY_MODEL_2ae146ed328c483b943532361361da0e",
            "max": 1885418496,
            "min": 0,
            "orientation": "horizontal",
            "style": "IPY_MODEL_411c62f8b69845308a5a98a4267e9ddd",
            "value": 1885418496
          }
        },
        "d1ecea3b989f40609015ff1a688b5a55": {
          "model_module": "@jupyter-widgets/controls",
          "model_name": "HTMLModel",
          "model_module_version": "1.5.0",
          "state": {
            "_dom_classes": [],
            "_model_module": "@jupyter-widgets/controls",
            "_model_module_version": "1.5.0",
            "_model_name": "HTMLModel",
            "_view_count": null,
            "_view_module": "@jupyter-widgets/controls",
            "_view_module_version": "1.5.0",
            "_view_name": "HTMLView",
            "description": "",
            "description_tooltip": null,
            "layout": "IPY_MODEL_f5cae81afd99477399799ac7ef50334d",
            "placeholder": "​",
            "style": "IPY_MODEL_43a57f1b18ae435484df5af7b5a92e60",
            "value": " 1.89G/1.89G [01:23&lt;00:00, 23.0MB/s]"
          }
        },
        "a164044aadc0448c8695fdf834364c0e": {
          "model_module": "@jupyter-widgets/base",
          "model_name": "LayoutModel",
          "model_module_version": "1.2.0",
          "state": {
            "_model_module": "@jupyter-widgets/base",
            "_model_module_version": "1.2.0",
            "_model_name": "LayoutModel",
            "_view_count": null,
            "_view_module": "@jupyter-widgets/base",
            "_view_module_version": "1.2.0",
            "_view_name": "LayoutView",
            "align_content": null,
            "align_items": null,
            "align_self": null,
            "border": null,
            "bottom": null,
            "display": null,
            "flex": null,
            "flex_flow": null,
            "grid_area": null,
            "grid_auto_columns": null,
            "grid_auto_flow": null,
            "grid_auto_rows": null,
            "grid_column": null,
            "grid_gap": null,
            "grid_row": null,
            "grid_template_areas": null,
            "grid_template_columns": null,
            "grid_template_rows": null,
            "height": null,
            "justify_content": null,
            "justify_items": null,
            "left": null,
            "margin": null,
            "max_height": null,
            "max_width": null,
            "min_height": null,
            "min_width": null,
            "object_fit": null,
            "object_position": null,
            "order": null,
            "overflow": null,
            "overflow_x": null,
            "overflow_y": null,
            "padding": null,
            "right": null,
            "top": null,
            "visibility": null,
            "width": null
          }
        },
        "cd9a662dda314beeabe5b8a2bca7f2b5": {
          "model_module": "@jupyter-widgets/base",
          "model_name": "LayoutModel",
          "model_module_version": "1.2.0",
          "state": {
            "_model_module": "@jupyter-widgets/base",
            "_model_module_version": "1.2.0",
            "_model_name": "LayoutModel",
            "_view_count": null,
            "_view_module": "@jupyter-widgets/base",
            "_view_module_version": "1.2.0",
            "_view_name": "LayoutView",
            "align_content": null,
            "align_items": null,
            "align_self": null,
            "border": null,
            "bottom": null,
            "display": null,
            "flex": null,
            "flex_flow": null,
            "grid_area": null,
            "grid_auto_columns": null,
            "grid_auto_flow": null,
            "grid_auto_rows": null,
            "grid_column": null,
            "grid_gap": null,
            "grid_row": null,
            "grid_template_areas": null,
            "grid_template_columns": null,
            "grid_template_rows": null,
            "height": null,
            "justify_content": null,
            "justify_items": null,
            "left": null,
            "margin": null,
            "max_height": null,
            "max_width": null,
            "min_height": null,
            "min_width": null,
            "object_fit": null,
            "object_position": null,
            "order": null,
            "overflow": null,
            "overflow_x": null,
            "overflow_y": null,
            "padding": null,
            "right": null,
            "top": null,
            "visibility": null,
            "width": null
          }
        },
        "520308264e3a45e2b9c75f63b519d0d5": {
          "model_module": "@jupyter-widgets/controls",
          "model_name": "DescriptionStyleModel",
          "model_module_version": "1.5.0",
          "state": {
            "_model_module": "@jupyter-widgets/controls",
            "_model_module_version": "1.5.0",
            "_model_name": "DescriptionStyleModel",
            "_view_count": null,
            "_view_module": "@jupyter-widgets/base",
            "_view_module_version": "1.2.0",
            "_view_name": "StyleView",
            "description_width": ""
          }
        },
        "2ae146ed328c483b943532361361da0e": {
          "model_module": "@jupyter-widgets/base",
          "model_name": "LayoutModel",
          "model_module_version": "1.2.0",
          "state": {
            "_model_module": "@jupyter-widgets/base",
            "_model_module_version": "1.2.0",
            "_model_name": "LayoutModel",
            "_view_count": null,
            "_view_module": "@jupyter-widgets/base",
            "_view_module_version": "1.2.0",
            "_view_name": "LayoutView",
            "align_content": null,
            "align_items": null,
            "align_self": null,
            "border": null,
            "bottom": null,
            "display": null,
            "flex": null,
            "flex_flow": null,
            "grid_area": null,
            "grid_auto_columns": null,
            "grid_auto_flow": null,
            "grid_auto_rows": null,
            "grid_column": null,
            "grid_gap": null,
            "grid_row": null,
            "grid_template_areas": null,
            "grid_template_columns": null,
            "grid_template_rows": null,
            "height": null,
            "justify_content": null,
            "justify_items": null,
            "left": null,
            "margin": null,
            "max_height": null,
            "max_width": null,
            "min_height": null,
            "min_width": null,
            "object_fit": null,
            "object_position": null,
            "order": null,
            "overflow": null,
            "overflow_x": null,
            "overflow_y": null,
            "padding": null,
            "right": null,
            "top": null,
            "visibility": null,
            "width": null
          }
        },
        "411c62f8b69845308a5a98a4267e9ddd": {
          "model_module": "@jupyter-widgets/controls",
          "model_name": "ProgressStyleModel",
          "model_module_version": "1.5.0",
          "state": {
            "_model_module": "@jupyter-widgets/controls",
            "_model_module_version": "1.5.0",
            "_model_name": "ProgressStyleModel",
            "_view_count": null,
            "_view_module": "@jupyter-widgets/base",
            "_view_module_version": "1.2.0",
            "_view_name": "StyleView",
            "bar_color": null,
            "description_width": ""
          }
        },
        "f5cae81afd99477399799ac7ef50334d": {
          "model_module": "@jupyter-widgets/base",
          "model_name": "LayoutModel",
          "model_module_version": "1.2.0",
          "state": {
            "_model_module": "@jupyter-widgets/base",
            "_model_module_version": "1.2.0",
            "_model_name": "LayoutModel",
            "_view_count": null,
            "_view_module": "@jupyter-widgets/base",
            "_view_module_version": "1.2.0",
            "_view_name": "LayoutView",
            "align_content": null,
            "align_items": null,
            "align_self": null,
            "border": null,
            "bottom": null,
            "display": null,
            "flex": null,
            "flex_flow": null,
            "grid_area": null,
            "grid_auto_columns": null,
            "grid_auto_flow": null,
            "grid_auto_rows": null,
            "grid_column": null,
            "grid_gap": null,
            "grid_row": null,
            "grid_template_areas": null,
            "grid_template_columns": null,
            "grid_template_rows": null,
            "height": null,
            "justify_content": null,
            "justify_items": null,
            "left": null,
            "margin": null,
            "max_height": null,
            "max_width": null,
            "min_height": null,
            "min_width": null,
            "object_fit": null,
            "object_position": null,
            "order": null,
            "overflow": null,
            "overflow_x": null,
            "overflow_y": null,
            "padding": null,
            "right": null,
            "top": null,
            "visibility": null,
            "width": null
          }
        },
        "43a57f1b18ae435484df5af7b5a92e60": {
          "model_module": "@jupyter-widgets/controls",
          "model_name": "DescriptionStyleModel",
          "model_module_version": "1.5.0",
          "state": {
            "_model_module": "@jupyter-widgets/controls",
            "_model_module_version": "1.5.0",
            "_model_name": "DescriptionStyleModel",
            "_view_count": null,
            "_view_module": "@jupyter-widgets/base",
            "_view_module_version": "1.2.0",
            "_view_name": "StyleView",
            "description_width": ""
          }
        }
      }
    }
  },
  "cells": [
    {
      "cell_type": "markdown",
      "metadata": {
        "id": "view-in-github",
        "colab_type": "text"
      },
      "source": [
        "<a href=\"https://colab.research.google.com/github/pavansai26/END-TO-END-DEPLOYMENT-NER-/blob/main/deployment_of_ner_pipeline.ipynb\" target=\"_parent\"><img src=\"https://colab.research.google.com/assets/colab-badge.svg\" alt=\"Open In Colab\"/></a>"
      ]
    },
    {
      "cell_type": "markdown",
      "source": [
        "install necessary dependecies"
      ],
      "metadata": {
        "id": "nNWvR4VtQeSD"
      }
    },
    {
      "cell_type": "code",
      "execution_count": 6,
      "metadata": {
        "colab": {
          "base_uri": "https://localhost:8080/"
        },
        "id": "3MNGoyxdP3Vf",
        "outputId": "454bf1d5-4dda-49ea-a18d-b60ed417fcfe"
      },
      "outputs": [
        {
          "output_type": "stream",
          "name": "stdout",
          "text": [
            "Looking in indexes: https://pypi.org/simple, https://us-python.pkg.dev/colab-wheels/public/simple/\n",
            "Requirement already satisfied: transformers in /usr/local/lib/python3.9/dist-packages (4.28.1)\n",
            "Requirement already satisfied: numpy>=1.17 in /usr/local/lib/python3.9/dist-packages (from transformers) (1.22.4)\n",
            "Requirement already satisfied: tqdm>=4.27 in /usr/local/lib/python3.9/dist-packages (from transformers) (4.65.0)\n",
            "Requirement already satisfied: huggingface-hub<1.0,>=0.11.0 in /usr/local/lib/python3.9/dist-packages (from transformers) (0.13.4)\n",
            "Requirement already satisfied: tokenizers!=0.11.3,<0.14,>=0.11.1 in /usr/local/lib/python3.9/dist-packages (from transformers) (0.13.3)\n",
            "Requirement already satisfied: regex!=2019.12.17 in /usr/local/lib/python3.9/dist-packages (from transformers) (2022.10.31)\n",
            "Requirement already satisfied: filelock in /usr/local/lib/python3.9/dist-packages (from transformers) (3.11.0)\n",
            "Requirement already satisfied: requests in /usr/local/lib/python3.9/dist-packages (from transformers) (2.27.1)\n",
            "Requirement already satisfied: pyyaml>=5.1 in /usr/local/lib/python3.9/dist-packages (from transformers) (6.0)\n",
            "Requirement already satisfied: packaging>=20.0 in /usr/local/lib/python3.9/dist-packages (from transformers) (23.1)\n",
            "Requirement already satisfied: typing-extensions>=3.7.4.3 in /usr/local/lib/python3.9/dist-packages (from huggingface-hub<1.0,>=0.11.0->transformers) (4.5.0)\n",
            "Requirement already satisfied: charset-normalizer~=2.0.0 in /usr/local/lib/python3.9/dist-packages (from requests->transformers) (2.0.12)\n",
            "Requirement already satisfied: urllib3<1.27,>=1.21.1 in /usr/local/lib/python3.9/dist-packages (from requests->transformers) (1.26.15)\n",
            "Requirement already satisfied: idna<4,>=2.5 in /usr/local/lib/python3.9/dist-packages (from requests->transformers) (3.4)\n",
            "Requirement already satisfied: certifi>=2017.4.17 in /usr/local/lib/python3.9/dist-packages (from requests->transformers) (2022.12.7)\n",
            "Looking in indexes: https://pypi.org/simple, https://us-python.pkg.dev/colab-wheels/public/simple/\n",
            "Requirement already satisfied: redis in /usr/local/lib/python3.9/dist-packages (4.5.4)\n",
            "Requirement already satisfied: async-timeout>=4.0.2 in /usr/local/lib/python3.9/dist-packages (from redis) (4.0.2)\n",
            "Looking in indexes: https://pypi.org/simple, https://us-python.pkg.dev/colab-wheels/public/simple/\n",
            "Requirement already satisfied: pymongo in /usr/local/lib/python3.9/dist-packages (4.3.3)\n",
            "Requirement already satisfied: dnspython<3.0.0,>=1.16.0 in /usr/local/lib/python3.9/dist-packages (from pymongo) (2.3.0)\n",
            "Looking in indexes: https://pypi.org/simple, https://us-python.pkg.dev/colab-wheels/public/simple/\n",
            "Collecting sentencepiece\n",
            "  Downloading sentencepiece-0.1.98-cp39-cp39-manylinux_2_17_x86_64.manylinux2014_x86_64.whl (1.3 MB)\n",
            "\u001b[2K     \u001b[90m━━━━━━━━━━━━━━━━━━━━━━━━━━━━━━━━━━━━━━━━\u001b[0m \u001b[32m1.3/1.3 MB\u001b[0m \u001b[31m16.8 MB/s\u001b[0m eta \u001b[36m0:00:00\u001b[0m\n",
            "\u001b[?25hInstalling collected packages: sentencepiece\n",
            "Successfully installed sentencepiece-0.1.98\n"
          ]
        }
      ],
      "source": [
        "!pip install transformers\n",
        "!pip install redis\n",
        "!pip install pymongo\n",
        "!pip install sentencepiece\n"
      ]
    },
    {
      "cell_type": "code",
      "source": [
        "import tensorflow as tf  \n",
        "# Import TensorFlow library\n",
        "from transformers import TFXLMRobertaForTokenClassification, XLMRobertaTokenizer  \n",
        "# Import XLM-RoBERTa model and tokenizer from transformers library\n",
        "import pymongo  \n",
        "# Import pymongo library for MongoDB interaction\n",
        "import redis  \n",
        "# Import redis library for Redis interaction\n",
        "from transformers import AutoTokenizer, AutoConfig"
      ],
      "metadata": {
        "id": "qdxSE0AdQhU9"
      },
      "execution_count": 12,
      "outputs": []
    },
    {
      "cell_type": "markdown",
      "source": [
        "# Connect to MongoDB\n"
      ],
      "metadata": {
        "id": "06fvYREWQ8VB"
      }
    },
    {
      "cell_type": "code",
      "source": [
        "mongo_client = pymongo.MongoClient(\"mongodb://localhost:27017/\")  \n",
        "# Connect to local MongoDB instance\n",
        "db = mongo_client[\"named_entity_recognition\"]  \n",
        "# Get or create \"named_entity_recognition\" database\n",
        "collection = db[\"sentences\"]  \n",
        "# Get or create \"sentences\" collection in \"named_entity_recognition\" database"
      ],
      "metadata": {
        "id": "3m8l9FDGSwGG"
      },
      "execution_count": 9,
      "outputs": []
    },
    {
      "cell_type": "markdown",
      "source": [
        "Connect to Redis"
      ],
      "metadata": {
        "id": "Gk9aShNSS5qd"
      }
    },
    {
      "cell_type": "code",
      "source": [
        "redis_client = redis.Redis(host='localhost', port=6379, db=0)\n",
        "# Connect to local Redis instance on default port and database 0"
      ],
      "metadata": {
        "id": "bb_VnE4aS0R7"
      },
      "execution_count": 10,
      "outputs": []
    },
    {
      "cell_type": "markdown",
      "source": [
        "Load XLM-RoBERTa model and tokenizer"
      ],
      "metadata": {
        "id": "Vg6GrtuCTIkN"
      }
    },
    {
      "cell_type": "code",
      "source": [
        "model_name = 'jplu/tf-xlm-roberta-base'  \n",
        "# Set name of pre-trained XLM-RoBERTa model to use\n",
        "tokenizer = AutoTokenizer.from_pretrained(model_name)  \n",
        "# Instantiate auto tokenizer using pre-trained model\n",
        "model = TFXLMRobertaForTokenClassification.from_pretrained(model_name)  \n",
        "# Instantiate XLM-RoBERTa model for token classification using pre-trained model"
      ],
      "metadata": {
        "colab": {
          "base_uri": "https://localhost:8080/",
          "height": 204,
          "referenced_widgets": [
            "5ea938a4bc304346be361c49c95dfda4",
            "9d6a7980c28a49208f05b92c5c627130",
            "551f85ebd9fc47bb8e54df39a6477e4e",
            "a1852e826a00443385ecd289edce98c6",
            "0fc788160d5349dd9b61ae06ae7196ef",
            "05c75a1004454f8f9935ed7a0dd51331",
            "5482ee1eb3d54549a1815589ba80f00c",
            "cd1e04c0ce7c46fa87c6a0c6cc351883",
            "04880e5672a048b18b6986ee4c08f3d9",
            "8b66ca3c0ee14986b606de2be6f509e2",
            "f2595c4c1355428e9115782418f24a5b",
            "f41a0f762ef0444cb15f35258120bf31",
            "8589b31dcd89423bbe784df9d78ecf94",
            "ba21a8cba21845a881fcc6c510450201",
            "4449402905454efb89c30aae965980f8",
            "2a7dcfb77e584d1bb524c88ceec9dfa4",
            "322efa2aa6f64161aa45cb24bd3f5714",
            "8732d9e4c7834da7973a103ab875540c",
            "5b4708c6af354eb99570b1457e12a080",
            "6856cca498fc40b29734e15343e50e64",
            "3b400eef92e743888b98a5602d07542b",
            "2b21e9f9253e405e927c829e13b9a6f4",
            "f1d1d32fae964113b0794e171c28a5ab",
            "33ec44be662e4cd191a37fcf26c6b6fd",
            "94414732599c45849324259b5509e3d9",
            "d1ecea3b989f40609015ff1a688b5a55",
            "a164044aadc0448c8695fdf834364c0e",
            "cd9a662dda314beeabe5b8a2bca7f2b5",
            "520308264e3a45e2b9c75f63b519d0d5",
            "2ae146ed328c483b943532361361da0e",
            "411c62f8b69845308a5a98a4267e9ddd",
            "f5cae81afd99477399799ac7ef50334d",
            "43a57f1b18ae435484df5af7b5a92e60"
          ]
        },
        "id": "OTURT1MHTBMX",
        "outputId": "1185c13e-8469-4b12-bcac-d71f1c5f82c0"
      },
      "execution_count": 13,
      "outputs": [
        {
          "output_type": "display_data",
          "data": {
            "text/plain": [
              "Downloading (…)lve/main/config.json:   0%|          | 0.00/512 [00:00<?, ?B/s]"
            ],
            "application/vnd.jupyter.widget-view+json": {
              "version_major": 2,
              "version_minor": 0,
              "model_id": "5ea938a4bc304346be361c49c95dfda4"
            }
          },
          "metadata": {}
        },
        {
          "output_type": "display_data",
          "data": {
            "text/plain": [
              "Downloading (…)tencepiece.bpe.model:   0%|          | 0.00/5.07M [00:00<?, ?B/s]"
            ],
            "application/vnd.jupyter.widget-view+json": {
              "version_major": 2,
              "version_minor": 0,
              "model_id": "f41a0f762ef0444cb15f35258120bf31"
            }
          },
          "metadata": {}
        },
        {
          "output_type": "display_data",
          "data": {
            "text/plain": [
              "Downloading tf_model.h5:   0%|          | 0.00/1.89G [00:00<?, ?B/s]"
            ],
            "application/vnd.jupyter.widget-view+json": {
              "version_major": 2,
              "version_minor": 0,
              "model_id": "f1d1d32fae964113b0794e171c28a5ab"
            }
          },
          "metadata": {}
        },
        {
          "output_type": "stream",
          "name": "stderr",
          "text": [
            "All model checkpoint layers were used when initializing TFXLMRobertaForTokenClassification.\n",
            "\n",
            "Some layers of TFXLMRobertaForTokenClassification were not initialized from the model checkpoint at jplu/tf-xlm-roberta-base and are newly initialized: ['classifier']\n",
            "You should probably TRAIN this model on a down-stream task to be able to use it for predictions and inference.\n"
          ]
        }
      ]
    },
    {
      "cell_type": "markdown",
      "source": [
        "# Define named entity recognition function\n"
      ],
      "metadata": {
        "id": "l6e5qkVOVxSB"
      }
    },
    {
      "cell_type": "code",
      "source": [
        "def recognize_entities(sentence):\n",
        "    # Check if result is cached in Redis\n",
        "    if redis_client.exists(sentence):\n",
        "        cached_result = redis_client.get(sentence)\n",
        "        return cached_result.decode('utf-8')  \n",
        "        # Return cached result as a string\n",
        "    else:\n",
        "        # Run named entity recognition on sentence\n",
        "        inputs = tokenizer(sentence, return_tensors='tf')  \n",
        "        # Tokenize sentence using XLM-RoBERTa tokenizer\n",
        "        outputs = model(inputs)  \n",
        "        # Feed tokenized sentence to XLM-RoBERTa model for token classification\n",
        "        predictions = tf.argmax(outputs.logits, axis=-1).numpy()[0]  \n",
        "        # Get predicted entity labels for each token in the sentence\n",
        "        entity_labels = [tokenizer.decode([p]) for p in predictions]  \n",
        "        # Convert predicted entity labels to strings using tokenizer\n",
        "\n",
        "        # Combine adjacent tokens with same entity label\n",
        "        entity_spans = []\n",
        "        for i in range(len(entity_labels)):\n",
        "            if entity_labels[i].startswith('B-'):\n",
        "                start = i\n",
        "                end = i\n",
        "                while end < len(entity_labels) - 1 and entity_labels[end+1].startswith('I-'):\n",
        "                    end += 1\n",
        "                entity_spans.append((start, end, entity_labels[i][2:]))\n",
        "        entities = [{'text': tokenizer.decode(inputs['input_ids'][0][start:end+1]), 'type': entity_type} for start, end, entity_type in entity_spans]\n",
        "\n",
        "        # Cache result in Redis\n",
        "        redis_client.set(sentence, str(entities), ex=3600)  \n",
        "        # Cache entities for the input sentence in Redis for 1 hour (3600 seconds)\n",
        "\n",
        "        return entities  \n",
        "        # Return list of recognized entities as dictionaries with 'text' and 'type' keys\n",
        "\n",
        "\n",
        "\n",
        "\n",
        "\n",
        "\n"
      ],
      "metadata": {
        "id": "JF1wtQaDTXG_"
      },
      "execution_count": 14,
      "outputs": []
    },
    {
      "cell_type": "markdown",
      "source": [
        "# Store data in MongoDB\n"
      ],
      "metadata": {
        "id": "n9mt4dztWUmd"
      }
    },
    {
      "cell_type": "code",
      "source": [
        "data = {'sentence': 'John lives in New York City.', 'entities': recognize_entities('John lives in New York City.')}  \n",
        "# Create dictionary containing sentence and recognized entities\n",
        "collection.insert_one(data)  \n",
        "# Insert data into MongoDB \"sentences\" collection\n",
        "\n",
        "# Retrieve data from MongoDB\n",
        "results = collection.find({})  \n",
        "# Find all documents in MongoDB \"sentences\" collection\n",
        "for result in results:\n",
        "    sentence = result['sentence']\n",
        "    entities = result['entities']\n",
        "\n",
        "    if redis_client.exists(sentence):\n",
        "        cached_result = redis_client.get(sentence)\n",
        "        print(cached_result.decode('utf-8'))\n",
        "    else:\n",
        "        recognized_entities = recognize_entities(sentence)\n",
        "        print(recognized_entities)  "
      ],
      "metadata": {
        "id": "7h6goYJdXAGB"
      },
      "execution_count": null,
      "outputs": []
    },
    {
      "cell_type": "code",
      "source": [
        "# Use an official Python runtime as a parent image\n",
        "FROM python:3.9-slim-buster\n",
        "\n",
        "# Set the working directory in the container to /app\n",
        "WORKDIR /app\n",
        "\n",
        "# Copy the requirements file into the container at /app\n",
        "COPY requirements.txt .\n",
        "\n",
        "# Install the required packages\n",
        "RUN pip3 install --no-cache-dir -r requirements.txt\n",
        "\n",
        "# Copy the rest of the application code into the container at /app\n",
        "COPY . .\n",
        "\n",
        "# Expose port 5000 for the Flask server\n",
        "EXPOSE 5000\n",
        "\n",
        "# Set the environment variables for MongoDB and Redis\n",
        "ENV MONGO_HOST localhost\n",
        "ENV MONGO_PORT 27017\n",
        "ENV REDIS_HOST localhost\n",
        "ENV REDIS_PORT 6379\n",
        "ENV REDIS_DB 0\n",
        "\n",
        "# Run the command to start the Flask server\n",
        "CMD [ \"python3\", \"app.py\" ]\n"
      ],
      "metadata": {
        "id": "wfFxCGKVYWik"
      },
      "execution_count": null,
      "outputs": []
    },
    {
      "cell_type": "markdown",
      "source": [
        "You should also create a requirements.txt file in the same directory as the Dockerfile, which should contain the following packages:"
      ],
      "metadata": {
        "id": "9in1TXe9Ybun"
      }
    },
    {
      "cell_type": "markdown",
      "source": [
        "tensorflow\n",
        "transformers\n",
        "pymongo\n",
        "redis\n",
        "flask\n"
      ],
      "metadata": {
        "id": "2P5ZXEaWYrgH"
      }
    },
    {
      "cell_type": "markdown",
      "source": [
        "Make sure to replace app.py with the filename of your application code. Then you can build and run the Docker container using the following commands:"
      ],
      "metadata": {
        "id": "6ueGsN5IYjHt"
      }
    },
    {
      "cell_type": "markdown",
      "source": [
        "docker build -t my_app .\n",
        "docker run -p 5000:5000 my_app\n"
      ],
      "metadata": {
        "id": "FcMSVBPVYz7k"
      }
    },
    {
      "cell_type": "markdown",
      "source": [
        "This will map the container's port 5000 to your machine's port 5000, allowing you to access the Flask server running in the container"
      ],
      "metadata": {
        "id": "IMnE1o0-Yn5R"
      }
    },
    {
      "cell_type": "code",
      "source": [
        "apiVersion: apps/v1\n",
        "kind: Deployment\n",
        "metadata:\n",
        "  name: named-entity-recognition\n",
        "  labels:\n",
        "    app: named-entity-recognition\n",
        "spec:\n",
        "  replicas: 1\n",
        "  selector:\n",
        "    matchLabels:\n",
        "      app: named-entity-recognition\n",
        "  template:\n",
        "    metadata:\n",
        "      labels:\n",
        "        app: named-entity-recognition\n",
        "    spec:\n",
        "      containers:\n",
        "      - name: named-entity-recognition\n",
        "        image: your-docker-image-tag\n",
        "        ports:\n",
        "        - containerPort: 8080\n",
        "        env:\n",
        "        - name: MONGO_URI\n",
        "          value: \"mongodb://mongodb:27017/named_entity_recognition\"\n",
        "        - name: REDIS_HOST\n",
        "          value: \"redis\"\n",
        "        - name: REDIS_PORT\n",
        "          value: \"6379\"\n",
        "        - name: REDIS_DB\n",
        "          value: \"0\"\n",
        "---\n",
        "apiVersion: v1\n",
        "kind: Service\n",
        "metadata:\n",
        "  name: named-entity-recognition\n",
        "  labels:\n",
        "    app: named-entity-recognition\n",
        "spec:\n",
        "  selector:\n",
        "    app: named-entity-recognition\n",
        "  ports:\n",
        "  - name: http\n",
        "    port: 80\n",
        "    targetPort: 8080\n",
        "  type: LoadBalancer\n",
        "---\n",
        "apiVersion: apps/v1\n",
        "kind: Deployment\n",
        "metadata:\n",
        "  name: mongodb\n",
        "  labels:\n",
        "    app: mongodb\n",
        "spec:\n",
        "  selector:\n",
        "    matchLabels:\n",
        "      app: mongodb\n",
        "  replicas: 1\n",
        "  template:\n",
        "    metadata:\n",
        "      labels:\n",
        "        app: mongodb\n",
        "    spec:\n",
        "      containers:\n",
        "      - name: mongodb\n",
        "        image: mongo:4.4.6\n",
        "        ports:\n",
        "        - containerPort: 27017\n",
        "        env:\n",
        "        - name: MONGO_INITDB_DATABASE\n",
        "          value: named_entity_recognition\n",
        "---\n",
        "apiVersion: v1\n",
        "kind: Service\n",
        "metadata:\n",
        "  name: mongodb\n",
        "  labels:\n",
        "    app: mongodb\n",
        "spec:\n",
        "  ports:\n",
        "  - name: mongo\n",
        "    port: 27017\n",
        "  selector:\n",
        "    app: mongodb\n",
        "---\n",
        "apiVersion: apps/v1\n",
        "kind: Deployment\n",
        "metadata:\n",
        "  name: redis\n",
        "  labels:\n",
        "    app: redis\n",
        "spec:\n",
        "  selector:\n",
        "    matchLabels:\n",
        "      app: redis\n",
        "  replicas: 1\n",
        "  template:\n",
        "    metadata:\n",
        "      labels:\n",
        "        app: redis\n",
        "    spec:\n",
        "      containers:\n",
        "      - name: redis\n",
        "        image: redis:6.2.4\n",
        "        ports:\n",
        "        - containerPort: 6379\n",
        "---\n",
        "apiVersion: v1\n",
        "kind: Service\n",
        "metadata:\n",
        "  name: redis\n",
        "  labels:\n",
        "    app: redis\n",
        "spec:\n",
        "  ports:\n",
        "  - name: redis\n",
        "    port: 6379\n",
        "  selector:\n",
        "    app: redis\n"
      ],
      "metadata": {
        "id": "D5dhGPGkcw6A"
      },
      "execution_count": null,
      "outputs": []
    },
    {
      "cell_type": "markdown",
      "source": [
        "This YAML file will deploy the named-entity-recognition Docker container, along with MongoDB and Redis containers as dependencies. The named-entity-recognition container will listen on port 8080, and a LoadBalancer service will expose it on port 80. The MongoDB container will listen on port 27017, and the Redis container will listen on port 6379. The MONGO_URI, REDIS_HOST, REDIS_PORT, and REDIS_DB environment variables are passed to the named-entity-recognition container, which are used by the Python code to connect to MongoDB and Redis.\n",
        "\n",
        "Please replace your-docker-image-tag in the YAML file with the tag of your built Docker image."
      ],
      "metadata": {
        "id": "91VWlRDGc-eQ"
      }
    },
    {
      "cell_type": "markdown",
      "source": [
        "kubectl apply -f <FILE_NAME>.yaml\n"
      ],
      "metadata": {
        "id": "r9QY-2yac2-X"
      }
    }
  ]
}