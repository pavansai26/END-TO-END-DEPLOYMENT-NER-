{
  "nbformat": 4,
  "nbformat_minor": 0,
  "metadata": {
    "colab": {
      "provenance": [],
      "include_colab_link": true
    },
    "kernelspec": {
      "name": "python3",
      "display_name": "Python 3"
    },
    "language_info": {
      "name": "python"
    }
  },
  "cells": [
    {
      "cell_type": "markdown",
      "metadata": {
        "id": "view-in-github",
        "colab_type": "text"
      },
      "source": [
        "<a href=\"https://colab.research.google.com/github/pavansai26/END-TO-END-DEPLOYMENT-NER-/blob/main/synonyms_generation.ipynb\" target=\"_parent\"><img src=\"https://colab.research.google.com/assets/colab-badge.svg\" alt=\"Open In Colab\"/></a>"
      ]
    },
    {
      "cell_type": "code",
      "source": [
        "pip install fuzzywuzzy\n"
      ],
      "metadata": {
        "colab": {
          "base_uri": "https://localhost:8080/"
        },
        "id": "1w1BbBB92vDP",
        "outputId": "f1164966-3a40-45a5-fb73-55188385c479"
      },
      "execution_count": null,
      "outputs": [
        {
          "output_type": "stream",
          "name": "stdout",
          "text": [
            "Looking in indexes: https://pypi.org/simple, https://us-python.pkg.dev/colab-wheels/public/simple/\n",
            "Collecting fuzzywuzzy\n",
            "  Downloading fuzzywuzzy-0.18.0-py2.py3-none-any.whl (18 kB)\n",
            "Installing collected packages: fuzzywuzzy\n",
            "Successfully installed fuzzywuzzy-0.18.0\n"
          ]
        }
      ]
    },
    {
      "cell_type": "code",
      "source": [
        "import nltk\n",
        "nltk.download('stopwords')\n",
        "from fuzzywuzzy import fuzz\n"
      ],
      "metadata": {
        "colab": {
          "base_uri": "https://localhost:8080/"
        },
        "id": "tBUV4mTvwEgM",
        "outputId": "74c04b0e-b936-40e4-bb58-3e08c4aadbdb"
      },
      "execution_count": null,
      "outputs": [
        {
          "output_type": "stream",
          "name": "stderr",
          "text": [
            "[nltk_data] Downloading package stopwords to /root/nltk_data...\n",
            "[nltk_data]   Unzipping corpora/stopwords.zip.\n",
            "/usr/local/lib/python3.9/dist-packages/fuzzywuzzy/fuzz.py:11: UserWarning: Using slow pure-python SequenceMatcher. Install python-Levenshtein to remove this warning\n",
            "  warnings.warn('Using slow pure-python SequenceMatcher. Install python-Levenshtein to remove this warning')\n"
          ]
        }
      ]
    },
    {
      "cell_type": "code",
      "source": [
        "# products to test the variations\n",
        "\n",
        "# Lacto Calamine Daily Face Lotion\n",
        "# Lacto Calamine Activated Charcoal Face Wash\n",
        "# Vitamin C Brightening Face Wash - 80 ml\n",
        "# Millet Balls Cheddar Cheese\n",
        "# Ubtan Face Wash for Tan Removal & Facial Cleansing\n",
        "# dalmatian print zip side skirt\n",
        "# FRIDO DUAL GEL INSOLES"
      ],
      "metadata": {
        "id": "PbgUZjmD3Rn6"
      },
      "execution_count": null,
      "outputs": []
    },
    {
      "cell_type": "code",
      "source": [
        "from itertools import combinations\n",
        "from nltk.corpus import stopwords\n",
        "import re\n",
        "\n",
        "# enter the product name\n",
        "product_name = \"Lacto Calamine Daily Face Lotion\"\n",
        "\n",
        "# Remove punctuation from the product name\n",
        "product_name = re.sub(r'[^\\w\\s\\-+&\\d]', '', product_name)\n",
        "\n",
        "# Concatenate quantity and unit into a single word eg 80ml, 200g,2kg etc to be printed as a single entity\n",
        "product_name = re.sub(r'(\\d+)\\s*([a-zA-Z]+)', r'\\1\\2', product_name)\n",
        "\n",
        "# Remove stop words from the product name \n",
        "stop_words = set(stopwords.words('english'))\n",
        "words = [word for word in product_name.lower().split() if word not in stop_words]\n",
        "\n",
        "# Create a list of all possible combinations of the words\n",
        "combinations_list = []\n",
        "for i in range(1, len(words) + 1):\n",
        "    combos = combinations(words, i)\n",
        "    combinations_list.extend(combos)\n",
        "\n",
        "# Create a list of all possible variations/synonyms\n",
        "variations_list = []\n",
        "for combo in combinations_list:\n",
        "    variation = \" \".join(combo)\n",
        "    variations_list.append(variation)\n",
        "\n",
        "# from this we can vary the score and generate as close variations we want of a product \n",
        "# if less score then more variations can be generated\n",
        "# Filter variations based on fuzzy score\n",
        "filtered_variations = []\n",
        "for variation in variations_list:\n",
        "    score = (fuzz.token_sort_ratio(variation, product_name))\n",
        "    if score >= 70:\n",
        "        filtered_variations.append((variation,score))\n",
        "    filtered_variations.sort(key=lambda x:x[1],reverse=True )\n",
        "filtered_variations = [x[0] for x in filtered_variations]\n",
        "#for name in names[:20]:\n",
        " # print(name)\n",
        "#print(names)\n",
        "# Print the variations\n",
        "# you can filter the no of variations you want from [:20] <-- we are printing 20 variations of total generated onces\n",
        "for variation in filtered_variations[:20]:\n",
        "    print(variation)\n",
        "\n",
        "# Print the variations\n",
        "#for variation in variations_list:\n",
        " #   print(variation)\n",
        "#filtered_variations = [x[0] for x in sorted(filtered_variations, key=lambda x: x[1], reverse=True)]"
      ],
      "metadata": {
        "colab": {
          "base_uri": "https://localhost:8080/"
        },
        "id": "TQfsS233wHtv",
        "outputId": "292f8791-aed1-4811-9c8f-75a0a9e2d1a9"
      },
      "execution_count": null,
      "outputs": [
        {
          "output_type": "stream",
          "name": "stdout",
          "text": [
            "lacto calamine daily face lotion\n",
            "lacto calamine daily lotion\n",
            "lacto calamine face lotion\n",
            "calamine daily face lotion\n",
            "lacto calamine daily face\n",
            "lacto daily face lotion\n",
            "lacto calamine lotion\n",
            "calamine daily lotion\n",
            "lacto calamine daily\n",
            "calamine face lotion\n",
            "lacto calamine face\n",
            "calamine daily face\n",
            "lacto daily lotion\n"
          ]
        }
      ]
    },
    {
      "cell_type": "code",
      "source": [
        "cardicfit\n",
        "capsule\n",
        "bio cardicfit\n",
        "bio capsule\n",
        "cardicfit capsule\n",
        "bio cardicfit capsule\n",
        "\n",
        "\n",
        "cardisol\n",
        "capsule\n",
        "bio cardisol\n",
        "bio capsule\n",
        "cardisol capsule\n",
        "bio cardisol capsule"
      ],
      "metadata": {
        "id": "j7DXrxQc5Z6M"
      },
      "execution_count": null,
      "outputs": []
    },
    {
      "cell_type": "code",
      "source": [],
      "metadata": {
        "id": "QgPMVilkC4nO"
      },
      "execution_count": null,
      "outputs": []
    }
  ]
}